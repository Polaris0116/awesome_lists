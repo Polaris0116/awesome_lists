{
  "cells": [
    {
      "cell_type": "markdown",
      "metadata": {
        "id": "view-in-github",
        "colab_type": "text"
      },
      "source": [
        "<a href=\"https://colab.research.google.com/github/Polaris0116/awesome_lists/blob/main/003_final_inference.ipynb\" target=\"_parent\"><img src=\"https://colab.research.google.com/assets/colab-badge.svg\" alt=\"Open In Colab\"/></a>"
      ]
    },
    {
      "cell_type": "markdown",
      "metadata": {
        "id": "RrGTAi4ZSK8o"
      },
      "source": [
        "## 注意事项\n",
        "## 最后的结果输出在本文件的最后一部分，可以看到相应的文本输出"
      ]
    },
    {
      "cell_type": "markdown",
      "metadata": {
        "id": "W02PcBvvSK8p"
      },
      "source": [
        "## 1. Load Testing Data"
      ]
    },
    {
      "cell_type": "code",
      "execution_count": null,
      "metadata": {
        "id": "r5EF8Fw1SK8p"
      },
      "outputs": [],
      "source": [
        "# Basic Libaries\n",
        "import os\n",
        "import numpy as np\n",
        "import pandas as pd\n",
        "\n",
        "# Data preprocessing\n",
        "from sklearn.model_selection import train_test_split\n",
        "from sklearn.preprocessing import StandardScaler\n",
        "\n",
        "# Neural Networks\n",
        "from tensorflow import keras\n",
        "import tensorflow.keras.layers as layers\n",
        "\n",
        "# Early Stopping\n",
        "from tensorflow.keras.callbacks import EarlyStopping"
      ]
    },
    {
      "cell_type": "code",
      "execution_count": null,
      "metadata": {
        "id": "2THaBMW_SK8q"
      },
      "outputs": [],
      "source": [
        "# Check the files\n",
        "train_dir = \"/Users/steven/Downloads/upload/dataset\"\n",
        "test_dir = \"/Users/steven/Downloads/upload/test\"\n",
        "\n",
        "train_files = os.listdir(train_dir)\n",
        "test_files = sorted(os.listdir(test_dir))\n",
        "\n",
        "train_paths = [os.path.join(train_dir, filename) for filename in train_files]\n",
        "test_paths = [os.path.join(test_dir, filename) for filename in test_files]"
      ]
    },
    {
      "cell_type": "code",
      "execution_count": null,
      "metadata": {
        "id": "N9Sfn3n_SK8r",
        "outputId": "8ee41ee9-1e3f-489e-c26e-4737669d0cae"
      },
      "outputs": [
        {
          "name": "stdout",
          "output_type": "stream",
          "text": [
            "The traning shape is: (90, 8192)\n",
            "The testing shape is: (110, 8192)\n"
          ]
        }
      ],
      "source": [
        "# Create a merged traninig dataset\n",
        "merged_train = pd.DataFrame()\n",
        "for each_file in train_paths:\n",
        "    data = pd.read_csv(each_file, header=None)\n",
        "    merged_train = pd.concat([merged_train, data], axis=1, ignore_index=True)\n",
        "\n",
        "# Transpose the whole dataset\n",
        "transposed_train = merged_train.transpose()\n",
        "# Print the traning shape\n",
        "print(f\"The traning shape is: {transposed_train.shape}\")\n",
        "\n",
        "# Create a merged testing dataset\n",
        "merged_test = pd.DataFrame()\n",
        "for each_file in test_paths:\n",
        "    data = pd.read_csv(each_file, header=None)\n",
        "    merged_test = pd.concat([merged_test, data], axis=1, ignore_index=True)\n",
        "\n",
        "# Transpose the whole dataset\n",
        "transposed_test = merged_test.transpose()\n",
        "# Print the testing shape\n",
        "print(f\"The testing shape is: {transposed_test.shape}\")"
      ]
    },
    {
      "cell_type": "code",
      "execution_count": null,
      "metadata": {
        "id": "CScM4BV2SK8s",
        "outputId": "00136c1d-eef1-4107-b6fa-524498e06fef"
      },
      "outputs": [
        {
          "data": {
            "text/html": [
              "<div>\n",
              "<style scoped>\n",
              "    .dataframe tbody tr th:only-of-type {\n",
              "        vertical-align: middle;\n",
              "    }\n",
              "\n",
              "    .dataframe tbody tr th {\n",
              "        vertical-align: top;\n",
              "    }\n",
              "\n",
              "    .dataframe thead th {\n",
              "        text-align: right;\n",
              "    }\n",
              "</style>\n",
              "<table border=\"1\" class=\"dataframe\">\n",
              "  <thead>\n",
              "    <tr style=\"text-align: right;\">\n",
              "      <th></th>\n",
              "      <th>0</th>\n",
              "      <th>1</th>\n",
              "      <th>2</th>\n",
              "      <th>3</th>\n",
              "      <th>4</th>\n",
              "      <th>5</th>\n",
              "      <th>6</th>\n",
              "      <th>7</th>\n",
              "      <th>8</th>\n",
              "      <th>9</th>\n",
              "      <th>...</th>\n",
              "      <th>8182</th>\n",
              "      <th>8183</th>\n",
              "      <th>8184</th>\n",
              "      <th>8185</th>\n",
              "      <th>8186</th>\n",
              "      <th>8187</th>\n",
              "      <th>8188</th>\n",
              "      <th>8189</th>\n",
              "      <th>8190</th>\n",
              "      <th>8191</th>\n",
              "    </tr>\n",
              "  </thead>\n",
              "  <tbody>\n",
              "    <tr>\n",
              "      <th>0</th>\n",
              "      <td>0.590819</td>\n",
              "      <td>-0.210481</td>\n",
              "      <td>-0.406121</td>\n",
              "      <td>-0.029921</td>\n",
              "      <td>0.473089</td>\n",
              "      <td>-0.745891</td>\n",
              "      <td>0.202489</td>\n",
              "      <td>-0.140941</td>\n",
              "      <td>-0.239221</td>\n",
              "      <td>-0.097631</td>\n",
              "      <td>...</td>\n",
              "      <td>-0.228001</td>\n",
              "      <td>-0.167001</td>\n",
              "      <td>0.175649</td>\n",
              "      <td>0.171749</td>\n",
              "      <td>-0.068421</td>\n",
              "      <td>0.097939</td>\n",
              "      <td>-0.269651</td>\n",
              "      <td>-0.270941</td>\n",
              "      <td>0.384029</td>\n",
              "      <td>-0.204821</td>\n",
              "    </tr>\n",
              "    <tr>\n",
              "      <th>1</th>\n",
              "      <td>1.359604</td>\n",
              "      <td>-1.049046</td>\n",
              "      <td>2.258914</td>\n",
              "      <td>0.451314</td>\n",
              "      <td>0.421424</td>\n",
              "      <td>-2.173106</td>\n",
              "      <td>3.413474</td>\n",
              "      <td>-0.958156</td>\n",
              "      <td>-1.510036</td>\n",
              "      <td>-1.558396</td>\n",
              "      <td>...</td>\n",
              "      <td>0.375234</td>\n",
              "      <td>-1.679616</td>\n",
              "      <td>1.407184</td>\n",
              "      <td>0.260384</td>\n",
              "      <td>0.675964</td>\n",
              "      <td>0.891124</td>\n",
              "      <td>-0.836766</td>\n",
              "      <td>-0.103006</td>\n",
              "      <td>0.362864</td>\n",
              "      <td>-1.851636</td>\n",
              "    </tr>\n",
              "    <tr>\n",
              "      <th>2</th>\n",
              "      <td>0.103542</td>\n",
              "      <td>-0.008088</td>\n",
              "      <td>-0.376480</td>\n",
              "      <td>0.226518</td>\n",
              "      <td>0.209404</td>\n",
              "      <td>-0.051018</td>\n",
              "      <td>0.399724</td>\n",
              "      <td>-0.041394</td>\n",
              "      <td>-0.712712</td>\n",
              "      <td>0.122296</td>\n",
              "      <td>...</td>\n",
              "      <td>0.202132</td>\n",
              "      <td>-0.065780</td>\n",
              "      <td>0.190162</td>\n",
              "      <td>0.121354</td>\n",
              "      <td>-0.010636</td>\n",
              "      <td>0.088258</td>\n",
              "      <td>0.097564</td>\n",
              "      <td>-0.164844</td>\n",
              "      <td>0.213952</td>\n",
              "      <td>-0.128576</td>\n",
              "    </tr>\n",
              "    <tr>\n",
              "      <th>3</th>\n",
              "      <td>0.153252</td>\n",
              "      <td>0.513152</td>\n",
              "      <td>-0.162388</td>\n",
              "      <td>-0.946848</td>\n",
              "      <td>-0.597928</td>\n",
              "      <td>0.264272</td>\n",
              "      <td>-0.302688</td>\n",
              "      <td>0.757152</td>\n",
              "      <td>0.061752</td>\n",
              "      <td>-0.122128</td>\n",
              "      <td>...</td>\n",
              "      <td>-0.496668</td>\n",
              "      <td>0.155692</td>\n",
              "      <td>0.737632</td>\n",
              "      <td>-0.381988</td>\n",
              "      <td>0.022712</td>\n",
              "      <td>0.420432</td>\n",
              "      <td>-0.190448</td>\n",
              "      <td>-0.700408</td>\n",
              "      <td>-0.011448</td>\n",
              "      <td>-0.400288</td>\n",
              "    </tr>\n",
              "    <tr>\n",
              "      <th>4</th>\n",
              "      <td>0.068773</td>\n",
              "      <td>0.500043</td>\n",
              "      <td>-0.175789</td>\n",
              "      <td>0.234449</td>\n",
              "      <td>0.135595</td>\n",
              "      <td>0.078913</td>\n",
              "      <td>0.060125</td>\n",
              "      <td>-0.495673</td>\n",
              "      <td>0.049619</td>\n",
              "      <td>0.069227</td>\n",
              "      <td>...</td>\n",
              "      <td>0.666783</td>\n",
              "      <td>-0.270129</td>\n",
              "      <td>-0.204947</td>\n",
              "      <td>-0.204825</td>\n",
              "      <td>0.218555</td>\n",
              "      <td>0.253569</td>\n",
              "      <td>-0.015285</td>\n",
              "      <td>0.222947</td>\n",
              "      <td>0.300573</td>\n",
              "      <td>-0.309745</td>\n",
              "    </tr>\n",
              "  </tbody>\n",
              "</table>\n",
              "<p>5 rows × 8192 columns</p>\n",
              "</div>"
            ],
            "text/plain": [
              "       0         1         2         3         4         5         6     \\\n",
              "0  0.590819 -0.210481 -0.406121 -0.029921  0.473089 -0.745891  0.202489   \n",
              "1  1.359604 -1.049046  2.258914  0.451314  0.421424 -2.173106  3.413474   \n",
              "2  0.103542 -0.008088 -0.376480  0.226518  0.209404 -0.051018  0.399724   \n",
              "3  0.153252  0.513152 -0.162388 -0.946848 -0.597928  0.264272 -0.302688   \n",
              "4  0.068773  0.500043 -0.175789  0.234449  0.135595  0.078913  0.060125   \n",
              "\n",
              "       7         8         9     ...      8182      8183      8184      8185  \\\n",
              "0 -0.140941 -0.239221 -0.097631  ... -0.228001 -0.167001  0.175649  0.171749   \n",
              "1 -0.958156 -1.510036 -1.558396  ...  0.375234 -1.679616  1.407184  0.260384   \n",
              "2 -0.041394 -0.712712  0.122296  ...  0.202132 -0.065780  0.190162  0.121354   \n",
              "3  0.757152  0.061752 -0.122128  ... -0.496668  0.155692  0.737632 -0.381988   \n",
              "4 -0.495673  0.049619  0.069227  ...  0.666783 -0.270129 -0.204947 -0.204825   \n",
              "\n",
              "       8186      8187      8188      8189      8190      8191  \n",
              "0 -0.068421  0.097939 -0.269651 -0.270941  0.384029 -0.204821  \n",
              "1  0.675964  0.891124 -0.836766 -0.103006  0.362864 -1.851636  \n",
              "2 -0.010636  0.088258  0.097564 -0.164844  0.213952 -0.128576  \n",
              "3  0.022712  0.420432 -0.190448 -0.700408 -0.011448 -0.400288  \n",
              "4  0.218555  0.253569 -0.015285  0.222947  0.300573 -0.309745  \n",
              "\n",
              "[5 rows x 8192 columns]"
            ]
          },
          "execution_count": 4,
          "metadata": {},
          "output_type": "execute_result"
        }
      ],
      "source": [
        "# Take a glimpse of the testing dataset\n",
        "transposed_test.head(5)"
      ]
    },
    {
      "cell_type": "code",
      "execution_count": null,
      "metadata": {
        "id": "GNdsjNP8SK8t",
        "outputId": "2cb41ef7-835b-404c-b437-7210793a8873"
      },
      "outputs": [
        {
          "name": "stdout",
          "output_type": "stream",
          "text": [
            "(90, 8192)\n",
            "(90, 2)\n"
          ]
        }
      ],
      "source": [
        "# Create y-label for training set\n",
        "train_label = []\n",
        "train_label\n",
        "for each_file in train_files:\n",
        "    label = int(each_file[-5])\n",
        "    train_label.append(label)\n",
        "\n",
        "# Merge into the training dataset\n",
        "transposed_train[\"target\"] = train_label\n",
        "\n",
        "# Hyper-prameters\n",
        "NUM_CLASSES = 2\n",
        "\n",
        "# Hyper-parameters for tranining process (Not the model params)\n",
        "EPOCH = 25\n",
        "BATCH_SIZE = 128\n",
        "VALIDATION_SPLIT = 0.1\n",
        "\n",
        "# Define training features and labels\n",
        "X_train = transposed_train.drop([\"target\"], axis=1).values\n",
        "y_train = transposed_train[\"target\"].values\n",
        "# Define testing features\n",
        "X_test = transposed_test.values\n",
        "\n",
        "# Normalization of the data\n",
        "scaler = StandardScaler()\n",
        "X_train_normalized = scaler.fit_transform(X_train)\n",
        "X_test_normalized = scaler.transform(X_test)\n",
        "\n",
        "# Convert y-train to one-hot\n",
        "y_train = keras.utils.to_categorical(y_train, NUM_CLASSES)\n",
        "\n",
        "# Print training shape\n",
        "print(X_train_normalized.shape)\n",
        "print(y_train.shape)"
      ]
    },
    {
      "cell_type": "markdown",
      "metadata": {
        "id": "LMS5WAyLSK8t"
      },
      "source": [
        "## 2. Load Best Model File"
      ]
    },
    {
      "cell_type": "code",
      "execution_count": null,
      "metadata": {
        "id": "XI6sxo4pSK8u",
        "outputId": "d1f83a05-94d1-4c8d-9a34-fc9f150b1cbe"
      },
      "outputs": [
        {
          "name": "stdout",
          "output_type": "stream",
          "text": [
            "Model: \"sequential\"\n",
            "_________________________________________________________________\n",
            " Layer (type)                Output Shape              Param #   \n",
            "=================================================================\n",
            " dense (Dense)               (None, 96)                786528    \n",
            "                                                                 \n",
            " dense_1 (Dense)             (None, 84)                8148      \n",
            "                                                                 \n",
            " dense_2 (Dense)             (None, 42)                3570      \n",
            "                                                                 \n",
            " dense_3 (Dense)             (None, 2)                 86        \n",
            "                                                                 \n",
            "=================================================================\n",
            "Total params: 798,332\n",
            "Trainable params: 798,332\n",
            "Non-trainable params: 0\n",
            "_________________________________________________________________\n"
          ]
        },
        {
          "name": "stderr",
          "output_type": "stream",
          "text": [
            "2023-12-10 02:51:52.597959: I tensorflow/core/platform/cpu_feature_guard.cc:151] This TensorFlow binary is optimized with oneAPI Deep Neural Network Library (oneDNN) to use the following CPU instructions in performance-critical operations:  AVX2 FMA\n",
            "To enable them in other operations, rebuild TensorFlow with the appropriate compiler flags.\n"
          ]
        }
      ],
      "source": [
        "# Load the best model without compiling i.e. Model_A\n",
        "best_model = keras.models.load_model(f\"***best_model_Final***.keras\", compile=False)\n",
        "best_model.summary()"
      ]
    },
    {
      "cell_type": "markdown",
      "metadata": {
        "id": "Nnl5xqc-SK8u"
      },
      "source": [
        "## 3. Prediction Result"
      ]
    },
    {
      "cell_type": "code",
      "execution_count": null,
      "metadata": {
        "id": "GaHzBL61SK8u",
        "outputId": "34c0b505-164f-4f45-9960-62d699737e1a"
      },
      "outputs": [
        {
          "data": {
            "text/plain": [
              "(110, 2)"
            ]
          },
          "execution_count": 7,
          "metadata": {},
          "output_type": "execute_result"
        }
      ],
      "source": [
        "# Prediction on the testing set.\n",
        "prediction = best_model.predict(X_test_normalized) # To speed up, uesing batch_size=BATCH_SIZE\n",
        "prediction.shape"
      ]
    },
    {
      "cell_type": "code",
      "execution_count": null,
      "metadata": {
        "id": "kR1gCtVWSK8v",
        "outputId": "acd8e9c5-e9a2-446e-a5ca-93c7d118ad2e"
      },
      "outputs": [
        {
          "data": {
            "text/plain": [
              "array([1, 1, 0, 1, 0, 0, 0, 0, 1, 1, 1, 1, 1, 0, 1, 1, 0, 1, 0, 1, 1, 1,\n",
              "       0, 1, 1, 1, 0, 0, 1, 1, 1, 0, 1, 0, 0, 1, 1, 0, 1, 1, 1, 0, 1, 0,\n",
              "       1, 1, 0, 0, 0, 1, 0, 1, 0, 1, 0, 1, 1, 1, 0, 0, 1, 0, 0, 1, 1, 1,\n",
              "       0, 1, 1, 1, 1, 0, 0, 1, 0, 0, 0, 1, 0, 1, 0, 1, 1, 0, 1, 1, 1, 1,\n",
              "       0, 1, 1, 0, 0, 1, 0, 0, 1, 1, 0, 0, 0, 0, 0, 1, 1, 0, 0, 0, 1, 1])"
            ]
          },
          "execution_count": 8,
          "metadata": {},
          "output_type": "execute_result"
        }
      ],
      "source": [
        "# Prediction Result\n",
        "predict_value = np.argmax(prediction, axis=1)\n",
        "predict_value"
      ]
    },
    {
      "cell_type": "markdown",
      "metadata": {
        "id": "fLjTKYxHSK8v"
      },
      "source": [
        "array([1, 1, 0, 1, 0, 0, 1, 0, 1, 1, 1, 1, 1, 0, 0, 1, 0, 0, 0, 1, 0, 1,\n",
        "       0, 0, 1, 0, 0, 0, 1, 1, 1, 0, 1, 0, 0, 1, 1, 0, 1, 1, 0, 1, 0, 0,\n",
        "       0, 0, 0, 1, 0, 1, 0, 1, 0, 0, 0, 1, 1, 0, 0, 1, 0, 1, 0, 0, 1, 0,\n",
        "       0, 0, 1, 1, 0, 0, 0, 1, 0, 1, 0, 0, 0, 0, 0, 1, 0, 0, 1, 0, 1, 0,\n",
        "       0, 1, 1, 0, 1, 0, 0, 0, 1, 0, 0, 0, 0, 1, 0, 0, 0, 0, 0, 0, 1, 1])"
      ]
    },
    {
      "cell_type": "code",
      "execution_count": null,
      "metadata": {
        "id": "-927SuvzSK8v",
        "outputId": "dfc5f2ac-4e30-44ee-ea4b-923bebf35de9"
      },
      "outputs": [
        {
          "name": "stdout",
          "output_type": "stream",
          "text": [
            "110\n"
          ]
        }
      ],
      "source": [
        "result_list = list(predict_value)\n",
        "result_str = \"\"\n",
        "for each_value in result_list:\n",
        "    result_str = result_str + str(each_value)\n",
        "\n",
        "# Convert result to string\n",
        "print(len(result_str))"
      ]
    },
    {
      "cell_type": "markdown",
      "metadata": {
        "id": "aHWl4kCbSK8v"
      },
      "source": [
        "## 4. Result Output"
      ]
    },
    {
      "cell_type": "code",
      "execution_count": null,
      "metadata": {
        "id": "qBwNvQlGSK8v",
        "outputId": "59174847-8ec4-4ce2-f126-db1ed71f9048"
      },
      "outputs": [
        {
          "name": "stdout",
          "output_type": "stream",
          "text": [
            "The prediction result has been saved successfully.\n"
          ]
        }
      ],
      "source": [
        "# Open a new file\n",
        "file_path = \"***result***.txt\"\n",
        "file = open(file_path, 'w')\n",
        "\n",
        "# Write Data\n",
        "data = result_str\n",
        "for char in data:\n",
        "    file.write(char + '\\n')\n",
        "\n",
        "# Close file\n",
        "file.close()\n",
        "\n",
        "# Check if the result txt file exists\n",
        "if os.path.isfile(f\"***result***.txt\") == True:\n",
        "    print(\"The prediction result has been saved successfully.\")\n",
        "else:\n",
        "    print(\"Error Occured\")"
      ]
    },
    {
      "cell_type": "code",
      "execution_count": null,
      "metadata": {
        "scrolled": true,
        "id": "CTvEe-oSSK8w",
        "outputId": "1443f287-7049-4029-83f9-3a788083b209"
      },
      "outputs": [
        {
          "name": "stdout",
          "output_type": "stream",
          "text": [
            "1\n",
            "1\n",
            "0\n",
            "1\n",
            "0\n",
            "0\n",
            "0\n",
            "0\n",
            "1\n",
            "1\n",
            "1\n",
            "1\n",
            "1\n",
            "0\n",
            "1\n",
            "1\n",
            "0\n",
            "1\n",
            "0\n",
            "1\n",
            "1\n",
            "1\n",
            "0\n",
            "1\n",
            "1\n",
            "1\n",
            "0\n",
            "0\n",
            "1\n",
            "1\n",
            "1\n",
            "0\n",
            "1\n",
            "0\n",
            "0\n",
            "1\n",
            "1\n",
            "0\n",
            "1\n",
            "1\n",
            "1\n",
            "0\n",
            "1\n",
            "0\n",
            "1\n",
            "1\n",
            "0\n",
            "0\n",
            "0\n",
            "1\n",
            "0\n",
            "1\n",
            "0\n",
            "1\n",
            "0\n",
            "1\n",
            "1\n",
            "1\n",
            "0\n",
            "0\n",
            "1\n",
            "0\n",
            "0\n",
            "1\n",
            "1\n",
            "1\n",
            "0\n",
            "1\n",
            "1\n",
            "1\n",
            "1\n",
            "0\n",
            "0\n",
            "1\n",
            "0\n",
            "0\n",
            "0\n",
            "1\n",
            "0\n",
            "1\n",
            "0\n",
            "1\n",
            "1\n",
            "0\n",
            "1\n",
            "1\n",
            "1\n",
            "1\n",
            "0\n",
            "1\n",
            "1\n",
            "0\n",
            "0\n",
            "1\n",
            "0\n",
            "0\n",
            "1\n",
            "1\n",
            "0\n",
            "0\n",
            "0\n",
            "0\n",
            "0\n",
            "1\n",
            "1\n",
            "0\n",
            "0\n",
            "0\n",
            "1\n",
            "1\n",
            "\n"
          ]
        }
      ],
      "source": [
        "# Read file: result.txt\n",
        "with open(file_path, 'r') as file:\n",
        "    content = file.read()\n",
        "    print(content)"
      ]
    },
    {
      "cell_type": "code",
      "execution_count": null,
      "metadata": {
        "id": "a0dEcSZ3SK8w"
      },
      "outputs": [],
      "source": []
    }
  ],
  "metadata": {
    "kernelspec": {
      "display_name": "Python 3 (ipykernel)",
      "language": "python",
      "name": "python3"
    },
    "language_info": {
      "codemirror_mode": {
        "name": "ipython",
        "version": 3
      },
      "file_extension": ".py",
      "mimetype": "text/x-python",
      "name": "python",
      "nbconvert_exporter": "python",
      "pygments_lexer": "ipython3",
      "version": "3.8.2"
    },
    "colab": {
      "provenance": [],
      "include_colab_link": true
    }
  },
  "nbformat": 4,
  "nbformat_minor": 0
}