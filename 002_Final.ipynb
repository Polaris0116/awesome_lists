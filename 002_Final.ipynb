{
  "cells": [
    {
      "cell_type": "markdown",
      "metadata": {
        "id": "view-in-github",
        "colab_type": "text"
      },
      "source": [
        "<a href=\"https://colab.research.google.com/github/Polaris0116/awesome_lists/blob/main/002_Final.ipynb\" target=\"_parent\"><img src=\"https://colab.research.google.com/assets/colab-badge.svg\" alt=\"Open In Colab\"/></a>"
      ]
    },
    {
      "cell_type": "markdown",
      "metadata": {
        "id": "Hk9Be118yrE0"
      },
      "source": []
    },
    {
      "cell_type": "markdown",
      "metadata": {
        "id": "lzux84S2yrE2"
      },
      "source": []
    },
    {
      "cell_type": "markdown",
      "source": [],
      "metadata": {
        "id": "19B1uqP_RMiJ"
      }
    },
    {
      "cell_type": "markdown",
      "metadata": {
        "id": "Xj77t7m1yrE2"
      },
      "source": [
        "## 注意事项：\n",
        "## 1. 删除不必要的comment（注释）和Markdown（双击DD可删除）\n",
        "## 2. 修改variable（即：变量）名称和数据集的获取路径\n",
        "## 3. 修改模型的设定参数（filters_layer, kernel_size, strides, pool_size, activation等）\n",
        "## 3. 修改训练的设定参数（VALIDATION_SPLIT, NUM_TRAILS, EPOCH等）"
      ]
    },
    {
      "cell_type": "markdown",
      "metadata": {
        "id": "CnrnP-nByrE3"
      },
      "source": [
        "## 本次作业要求的3个模型只需将此文档复制3次，并调整上述参数（随便动一点）即可\n",
        "## 本次作业要求的模型的准确率和模型总结也有，输出也会自动输出，都已集成在这一个文件中"
      ]
    },
    {
      "cell_type": "code",
      "execution_count": null,
      "metadata": {
        "id": "PlAL-NqSyrE3"
      },
      "outputs": [],
      "source": [
        "# Basic Libaries\n",
        "import os\n",
        "import numpy as np\n",
        "import pandas as pd\n",
        "\n",
        "# Data preprocessing\n",
        "from sklearn.model_selection import train_test_split\n",
        "from sklearn.preprocessing import StandardScaler\n",
        "\n",
        "# Neural Networks\n",
        "from tensorflow import keras\n",
        "import tensorflow.keras.layers as layers\n",
        "\n",
        "# Early Stopping\n",
        "from tensorflow.keras.callbacks import EarlyStopping"
      ]
    },
    {
      "cell_type": "code",
      "execution_count": null,
      "metadata": {
        "scrolled": false,
        "id": "CHs7DIQDyrE4",
        "outputId": "519a7125-c973-4478-8d6b-bd770f7cc558"
      },
      "outputs": [
        {
          "name": "stdout",
          "output_type": "stream",
          "text": [
            "The 1st train file name is: 3A4d8-1.csv\n",
            "The 1st train file path is: /Users/steven/Downloads/upload/dataset/3A4d8-1.csv\n",
            "The numebr of training files is: 90\n",
            "\n",
            "The 1st test file name is: 00D9c.csv\n",
            "The 1st test file path is: /Users/steven/Downloads/upload/test/00D9c.csv\n",
            "The numebr of testing files is: 110\n"
          ]
        }
      ],
      "source": [
        "# Check the files\n",
        "train_dir = \"/Users/steven/Downloads/upload/dataset\"\n",
        "test_dir = \"/Users/steven/Downloads/upload/test\"\n",
        "\n",
        "train_files = os.listdir(train_dir)\n",
        "test_files = sorted(os.listdir(test_dir))\n",
        "\n",
        "train_paths = [os.path.join(train_dir, filename) for filename in train_files]\n",
        "test_paths = [os.path.join(test_dir, filename) for filename in test_files]\n",
        "\n",
        "# Print the 1st train file\n",
        "print(f\"The 1st train file name is: {train_files[0]}\")\n",
        "# Print the 1st train file path\n",
        "print(f\"The 1st train file path is: {train_paths[0]}\")\n",
        "# Print the length / number of the training files\n",
        "print(f\"The numebr of training files is: {len(train_files)}\")\n",
        "print(\"\")\n",
        "# Print the 1st test file\n",
        "print(f\"The 1st test file name is: {test_files[0]}\")\n",
        "# Print the 1st tesi file path\n",
        "print(f\"The 1st test file path is: {test_paths[0]}\")\n",
        "# Print the length / number of the training files\n",
        "print(f\"The numebr of testing files is: {len(test_files)}\")"
      ]
    },
    {
      "cell_type": "code",
      "execution_count": null,
      "metadata": {
        "id": "vm3FgPiuyrE5",
        "outputId": "d5da732d-74f0-451b-8554-10f629352e4f"
      },
      "outputs": [
        {
          "name": "stdout",
          "output_type": "stream",
          "text": [
            "The traning shape is: (90, 8192)\n",
            "The testing shape is: (110, 8192)\n"
          ]
        }
      ],
      "source": [
        "# Create a merged traninig dataset\n",
        "merged_train = pd.DataFrame()\n",
        "for each_file in train_paths:\n",
        "    data = pd.read_csv(each_file, header=None)\n",
        "    merged_train = pd.concat([merged_train, data], axis=1, ignore_index=True)\n",
        "\n",
        "# Transpose the whole dataset\n",
        "transposed_train = merged_train.transpose()\n",
        "# Print the traning shape\n",
        "print(f\"The traning shape is: {transposed_train.shape}\")\n",
        "\n",
        "# Create a merged testing dataset\n",
        "merged_test = pd.DataFrame()\n",
        "for each_file in test_paths:\n",
        "    data = pd.read_csv(each_file, header=None)\n",
        "    merged_test = pd.concat([merged_test, data], axis=1, ignore_index=True)\n",
        "\n",
        "# Transpose the whole dataset\n",
        "transposed_test = merged_test.transpose()\n",
        "# Print the testing shape\n",
        "print(f\"The testing shape is: {transposed_test.shape}\")"
      ]
    },
    {
      "cell_type": "code",
      "execution_count": null,
      "metadata": {
        "id": "23ct41jVyrE5",
        "outputId": "6d437b45-a2ea-4c76-e59e-7053ca21b884"
      },
      "outputs": [
        {
          "data": {
            "text/html": [
              "<div>\n",
              "<style scoped>\n",
              "    .dataframe tbody tr th:only-of-type {\n",
              "        vertical-align: middle;\n",
              "    }\n",
              "\n",
              "    .dataframe tbody tr th {\n",
              "        vertical-align: top;\n",
              "    }\n",
              "\n",
              "    .dataframe thead th {\n",
              "        text-align: right;\n",
              "    }\n",
              "</style>\n",
              "<table border=\"1\" class=\"dataframe\">\n",
              "  <thead>\n",
              "    <tr style=\"text-align: right;\">\n",
              "      <th></th>\n",
              "      <th>0</th>\n",
              "      <th>1</th>\n",
              "      <th>2</th>\n",
              "      <th>3</th>\n",
              "      <th>4</th>\n",
              "      <th>5</th>\n",
              "      <th>6</th>\n",
              "      <th>7</th>\n",
              "      <th>8</th>\n",
              "      <th>9</th>\n",
              "      <th>...</th>\n",
              "      <th>8183</th>\n",
              "      <th>8184</th>\n",
              "      <th>8185</th>\n",
              "      <th>8186</th>\n",
              "      <th>8187</th>\n",
              "      <th>8188</th>\n",
              "      <th>8189</th>\n",
              "      <th>8190</th>\n",
              "      <th>8191</th>\n",
              "      <th>target</th>\n",
              "    </tr>\n",
              "  </thead>\n",
              "  <tbody>\n",
              "    <tr>\n",
              "      <th>0</th>\n",
              "      <td>-2.157941</td>\n",
              "      <td>-0.321841</td>\n",
              "      <td>1.127179</td>\n",
              "      <td>-0.385281</td>\n",
              "      <td>1.389479</td>\n",
              "      <td>0.969799</td>\n",
              "      <td>-2.056681</td>\n",
              "      <td>1.096679</td>\n",
              "      <td>-0.652461</td>\n",
              "      <td>-0.647581</td>\n",
              "      <td>...</td>\n",
              "      <td>-2.070101</td>\n",
              "      <td>1.594439</td>\n",
              "      <td>-1.379581</td>\n",
              "      <td>-1.312481</td>\n",
              "      <td>1.244299</td>\n",
              "      <td>0.337839</td>\n",
              "      <td>-1.023341</td>\n",
              "      <td>-1.567461</td>\n",
              "      <td>0.019419</td>\n",
              "      <td>1</td>\n",
              "    </tr>\n",
              "    <tr>\n",
              "      <th>1</th>\n",
              "      <td>0.794052</td>\n",
              "      <td>-0.226748</td>\n",
              "      <td>-0.174288</td>\n",
              "      <td>0.480512</td>\n",
              "      <td>0.025452</td>\n",
              "      <td>-0.120608</td>\n",
              "      <td>-0.181608</td>\n",
              "      <td>-0.260908</td>\n",
              "      <td>0.256032</td>\n",
              "      <td>0.054732</td>\n",
              "      <td>...</td>\n",
              "      <td>-0.281648</td>\n",
              "      <td>-0.291408</td>\n",
              "      <td>0.432932</td>\n",
              "      <td>-0.258468</td>\n",
              "      <td>-0.184048</td>\n",
              "      <td>-0.142568</td>\n",
              "      <td>0.234072</td>\n",
              "      <td>-0.570788</td>\n",
              "      <td>0.302391</td>\n",
              "      <td>0</td>\n",
              "    </tr>\n",
              "    <tr>\n",
              "      <th>2</th>\n",
              "      <td>-0.040746</td>\n",
              "      <td>-0.177142</td>\n",
              "      <td>-0.392106</td>\n",
              "      <td>0.346658</td>\n",
              "      <td>0.477442</td>\n",
              "      <td>0.333970</td>\n",
              "      <td>0.250034</td>\n",
              "      <td>-0.550462</td>\n",
              "      <td>-0.323298</td>\n",
              "      <td>0.218314</td>\n",
              "      <td>...</td>\n",
              "      <td>-0.220086</td>\n",
              "      <td>0.302006</td>\n",
              "      <td>-0.236190</td>\n",
              "      <td>-0.436026</td>\n",
              "      <td>0.560890</td>\n",
              "      <td>-0.078322</td>\n",
              "      <td>0.093142</td>\n",
              "      <td>-0.048310</td>\n",
              "      <td>-0.801782</td>\n",
              "      <td>0</td>\n",
              "    </tr>\n",
              "    <tr>\n",
              "      <th>3</th>\n",
              "      <td>0.357256</td>\n",
              "      <td>0.397516</td>\n",
              "      <td>-0.823364</td>\n",
              "      <td>-0.042904</td>\n",
              "      <td>0.463396</td>\n",
              "      <td>-0.467124</td>\n",
              "      <td>0.133996</td>\n",
              "      <td>0.702516</td>\n",
              "      <td>-0.336584</td>\n",
              "      <td>-0.612304</td>\n",
              "      <td>...</td>\n",
              "      <td>-0.740404</td>\n",
              "      <td>0.304796</td>\n",
              "      <td>0.676896</td>\n",
              "      <td>0.140096</td>\n",
              "      <td>-0.779444</td>\n",
              "      <td>-0.076724</td>\n",
              "      <td>0.501216</td>\n",
              "      <td>-0.525684</td>\n",
              "      <td>0.062016</td>\n",
              "      <td>0</td>\n",
              "    </tr>\n",
              "    <tr>\n",
              "      <th>4</th>\n",
              "      <td>0.836514</td>\n",
              "      <td>-1.194446</td>\n",
              "      <td>0.193574</td>\n",
              "      <td>0.998774</td>\n",
              "      <td>-1.389646</td>\n",
              "      <td>-1.059026</td>\n",
              "      <td>2.291974</td>\n",
              "      <td>-1.425026</td>\n",
              "      <td>-0.075706</td>\n",
              "      <td>1.774694</td>\n",
              "      <td>...</td>\n",
              "      <td>0.669374</td>\n",
              "      <td>-0.902866</td>\n",
              "      <td>-0.488066</td>\n",
              "      <td>2.206574</td>\n",
              "      <td>-1.938646</td>\n",
              "      <td>-0.252606</td>\n",
              "      <td>-0.117186</td>\n",
              "      <td>-0.481966</td>\n",
              "      <td>1.721014</td>\n",
              "      <td>1</td>\n",
              "    </tr>\n",
              "  </tbody>\n",
              "</table>\n",
              "<p>5 rows × 8193 columns</p>\n",
              "</div>"
            ],
            "text/plain": [
              "          0         1         2         3         4         5         6  \\\n",
              "0 -2.157941 -0.321841  1.127179 -0.385281  1.389479  0.969799 -2.056681   \n",
              "1  0.794052 -0.226748 -0.174288  0.480512  0.025452 -0.120608 -0.181608   \n",
              "2 -0.040746 -0.177142 -0.392106  0.346658  0.477442  0.333970  0.250034   \n",
              "3  0.357256  0.397516 -0.823364 -0.042904  0.463396 -0.467124  0.133996   \n",
              "4  0.836514 -1.194446  0.193574  0.998774 -1.389646 -1.059026  2.291974   \n",
              "\n",
              "          7         8         9  ...      8183      8184      8185      8186  \\\n",
              "0  1.096679 -0.652461 -0.647581  ... -2.070101  1.594439 -1.379581 -1.312481   \n",
              "1 -0.260908  0.256032  0.054732  ... -0.281648 -0.291408  0.432932 -0.258468   \n",
              "2 -0.550462 -0.323298  0.218314  ... -0.220086  0.302006 -0.236190 -0.436026   \n",
              "3  0.702516 -0.336584 -0.612304  ... -0.740404  0.304796  0.676896  0.140096   \n",
              "4 -1.425026 -0.075706  1.774694  ...  0.669374 -0.902866 -0.488066  2.206574   \n",
              "\n",
              "       8187      8188      8189      8190      8191  target  \n",
              "0  1.244299  0.337839 -1.023341 -1.567461  0.019419       1  \n",
              "1 -0.184048 -0.142568  0.234072 -0.570788  0.302391       0  \n",
              "2  0.560890 -0.078322  0.093142 -0.048310 -0.801782       0  \n",
              "3 -0.779444 -0.076724  0.501216 -0.525684  0.062016       0  \n",
              "4 -1.938646 -0.252606 -0.117186 -0.481966  1.721014       1  \n",
              "\n",
              "[5 rows x 8193 columns]"
            ]
          },
          "execution_count": 4,
          "metadata": {},
          "output_type": "execute_result"
        }
      ],
      "source": [
        "# Create y-label for training set\n",
        "train_label = []\n",
        "train_label\n",
        "for each_file in train_files:\n",
        "    label = int(each_file[-5])\n",
        "    train_label.append(label)\n",
        "\n",
        "# Merge into the training dataset\n",
        "transposed_train[\"target\"] = train_label\n",
        "transposed_train.head(5)"
      ]
    },
    {
      "cell_type": "code",
      "execution_count": null,
      "metadata": {
        "id": "x0mBDAmuyrE5",
        "outputId": "5d37e372-096b-45db-950d-c7a6bf9d1567"
      },
      "outputs": [
        {
          "name": "stdout",
          "output_type": "stream",
          "text": [
            "(90, 8192)\n",
            "(90, 2)\n"
          ]
        }
      ],
      "source": [
        "# Hyper-prameters\n",
        "NUM_CLASSES = 2\n",
        "\n",
        "# Hyper-parameters for tranining process (Not the model params)\n",
        "EPOCH = 25\n",
        "BATCH_SIZE = 128\n",
        "VALIDATION_SPLIT = 0.1\n",
        "\n",
        "# Define training features and labels\n",
        "X_train = transposed_train.drop([\"target\"], axis=1).values\n",
        "y_train = transposed_train[\"target\"].values\n",
        "# Define testing features\n",
        "X_test = transposed_test.values\n",
        "\n",
        "# Normalization of the data\n",
        "scaler = StandardScaler()\n",
        "X_train_normalized = scaler.fit_transform(X_train)\n",
        "X_test_normalized = scaler.transform(X_test)\n",
        "\n",
        "# Convert y-train to one-hot\n",
        "y_train = keras.utils.to_categorical(y_train, NUM_CLASSES)\n",
        "\n",
        "# Print training shape\n",
        "print(X_train_normalized.shape)\n",
        "print(y_train.shape)"
      ]
    },
    {
      "cell_type": "code",
      "execution_count": null,
      "metadata": {
        "scrolled": false,
        "id": "0yY7-x5nyrE6",
        "outputId": "07018e64-e167-404e-8e37-6607c727e1ed"
      },
      "outputs": [
        {
          "name": "stderr",
          "output_type": "stream",
          "text": [
            "2023-12-09 23:39:37.947927: I tensorflow/core/platform/cpu_feature_guard.cc:151] This TensorFlow binary is optimized with oneAPI Deep Neural Network Library (oneDNN) to use the following CPU instructions in performance-critical operations:  AVX2 FMA\n",
            "To enable them in other operations, rebuild TensorFlow with the appropriate compiler flags.\n"
          ]
        },
        {
          "name": "stdout",
          "output_type": "stream",
          "text": [
            "Epoch 1/25\n",
            "1/1 - 2s - loss: 0.7103 - accuracy: 0.4815 - val_loss: 0.6934 - val_accuracy: 0.5556 - 2s/epoch - 2s/step\n",
            "Epoch 2/25\n",
            "1/1 - 0s - loss: 0.3454 - accuracy: 0.9136 - val_loss: 0.6929 - val_accuracy: 0.5556 - 43ms/epoch - 43ms/step\n",
            "Epoch 3/25\n",
            "1/1 - 0s - loss: 0.2120 - accuracy: 0.9506 - val_loss: 0.6834 - val_accuracy: 0.4444 - 63ms/epoch - 63ms/step\n",
            "Epoch 4/25\n",
            "1/1 - 0s - loss: 0.1370 - accuracy: 0.9877 - val_loss: 0.6819 - val_accuracy: 0.4444 - 41ms/epoch - 41ms/step\n",
            "Epoch 5/25\n",
            "1/1 - 0s - loss: 0.0876 - accuracy: 1.0000 - val_loss: 0.6842 - val_accuracy: 0.4444 - 35ms/epoch - 35ms/step\n",
            "Epoch 6/25\n",
            "1/1 - 0s - loss: 0.0538 - accuracy: 1.0000 - val_loss: 0.6819 - val_accuracy: 0.4444 - 37ms/epoch - 37ms/step\n",
            "Epoch 7/25\n",
            "1/1 - 0s - loss: 0.0321 - accuracy: 1.0000 - val_loss: 0.6748 - val_accuracy: 0.4444 - 41ms/epoch - 41ms/step\n",
            "Epoch 8/25\n",
            "1/1 - 0s - loss: 0.0193 - accuracy: 1.0000 - val_loss: 0.6711 - val_accuracy: 0.3333 - 40ms/epoch - 40ms/step\n",
            "Epoch 9/25\n",
            "1/1 - 0s - loss: 0.0116 - accuracy: 1.0000 - val_loss: 0.6681 - val_accuracy: 0.3333 - 49ms/epoch - 49ms/step\n",
            "Epoch 10/25\n",
            "1/1 - 0s - loss: 0.0071 - accuracy: 1.0000 - val_loss: 0.6605 - val_accuracy: 0.3333 - 83ms/epoch - 83ms/step\n",
            "Epoch 11/25\n",
            "1/1 - 0s - loss: 0.0044 - accuracy: 1.0000 - val_loss: 0.6503 - val_accuracy: 0.3333 - 85ms/epoch - 85ms/step\n",
            "Epoch 12/25\n",
            "1/1 - 0s - loss: 0.0028 - accuracy: 1.0000 - val_loss: 0.6419 - val_accuracy: 0.5556 - 63ms/epoch - 63ms/step\n",
            "Epoch 13/25\n",
            "1/1 - 0s - loss: 0.0018 - accuracy: 1.0000 - val_loss: 0.6356 - val_accuracy: 0.6667 - 41ms/epoch - 41ms/step\n",
            "Epoch 14/25\n",
            "1/1 - 0s - loss: 0.0012 - accuracy: 1.0000 - val_loss: 0.6295 - val_accuracy: 0.6667 - 53ms/epoch - 53ms/step\n",
            "Epoch 15/25\n",
            "1/1 - 0s - loss: 7.9382e-04 - accuracy: 1.0000 - val_loss: 0.6245 - val_accuracy: 0.6667 - 46ms/epoch - 46ms/step\n",
            "Epoch 16/25\n",
            "1/1 - 0s - loss: 5.5299e-04 - accuracy: 1.0000 - val_loss: 0.6206 - val_accuracy: 0.6667 - 60ms/epoch - 60ms/step\n",
            "Epoch 17/25\n",
            "1/1 - 0s - loss: 3.9563e-04 - accuracy: 1.0000 - val_loss: 0.6181 - val_accuracy: 0.6667 - 61ms/epoch - 61ms/step\n",
            "Epoch 18/25\n",
            "1/1 - 0s - loss: 2.8929e-04 - accuracy: 1.0000 - val_loss: 0.6161 - val_accuracy: 0.6667 - 39ms/epoch - 39ms/step\n",
            "Epoch 19/25\n",
            "1/1 - 0s - loss: 2.1673e-04 - accuracy: 1.0000 - val_loss: 0.6142 - val_accuracy: 0.6667 - 49ms/epoch - 49ms/step\n",
            "Epoch 20/25\n",
            "1/1 - 0s - loss: 1.6585e-04 - accuracy: 1.0000 - val_loss: 0.6125 - val_accuracy: 0.6667 - 64ms/epoch - 64ms/step\n",
            "Epoch 21/25\n",
            "1/1 - 0s - loss: 1.2914e-04 - accuracy: 1.0000 - val_loss: 0.6126 - val_accuracy: 0.6667 - 50ms/epoch - 50ms/step\n",
            "Epoch 22/25\n",
            "1/1 - 0s - loss: 1.0247e-04 - accuracy: 1.0000 - val_loss: 0.6128 - val_accuracy: 0.6667 - 94ms/epoch - 94ms/step\n",
            "Epoch 23/25\n",
            "1/1 - 0s - loss: 8.2811e-05 - accuracy: 1.0000 - val_loss: 0.6131 - val_accuracy: 0.6667 - 60ms/epoch - 60ms/step\n",
            "Epoch 24/25\n",
            "1/1 - 0s - loss: 6.8042e-05 - accuracy: 1.0000 - val_loss: 0.6131 - val_accuracy: 0.6667 - 63ms/epoch - 63ms/step\n",
            "Epoch 25/25\n",
            "1/1 - 0s - loss: 5.6764e-05 - accuracy: 1.0000 - val_loss: 0.6125 - val_accuracy: 0.6667 - 42ms/epoch - 42ms/step\n"
          ]
        }
      ],
      "source": [
        "# Build ANN Model with 6 Hidden Layer\n",
        "def model_C():\n",
        "    # Construct a sequential model\n",
        "    model = keras.models.Sequential()\n",
        "    # Add Fully-connected Layer\n",
        "    model.add(layers.Dense(96, input_dim=8192, activation='relu'))\n",
        "#     model.add(layers.Dropout(0.05))\n",
        "    model.add(layers.Dense(84, activation='relu'))\n",
        "#     model.add(layers.Dropout(0.05))\n",
        "    model.add(layers.Dense(42, activation='relu'))\n",
        "#     model.add(layers.Dropout(0.05))\n",
        "    model.add(layers.Dense(NUM_CLASSES, activation='softmax'))\n",
        "    # Compile model\n",
        "    model.compile(loss=\"categorical_crossentropy\", optimizer='adam', metrics=['accuracy'])\n",
        "    return model\n",
        "\n",
        "# Define early stopping callback\n",
        "early_stopping = EarlyStopping(monitor='val_loss', patience=5)\n",
        "# Train Model\n",
        "modelC = model_C()\n",
        "history = modelC.fit(X_train_normalized, y_train, validation_split=VALIDATION_SPLIT,\n",
        "                     callbacks=[early_stopping], epochs=EPOCH, batch_size=BATCH_SIZE, verbose=2)"
      ]
    },
    {
      "cell_type": "code",
      "execution_count": null,
      "metadata": {
        "id": "akvj4UvNyrE6",
        "outputId": "bdf546c2-517c-4640-d2c6-ceae772d4022"
      },
      "outputs": [
        {
          "name": "stdout",
          "output_type": "stream",
          "text": [
            "Model: \"sequential\"\n",
            "_________________________________________________________________\n",
            " Layer (type)                Output Shape              Param #   \n",
            "=================================================================\n",
            " dense (Dense)               (None, 96)                786528    \n",
            "                                                                 \n",
            " dense_1 (Dense)             (None, 84)                8148      \n",
            "                                                                 \n",
            " dense_2 (Dense)             (None, 42)                3570      \n",
            "                                                                 \n",
            " dense_3 (Dense)             (None, 2)                 86        \n",
            "                                                                 \n",
            "=================================================================\n",
            "Total params: 798,332\n",
            "Trainable params: 798,332\n",
            "Non-trainable params: 0\n",
            "_________________________________________________________________\n"
          ]
        }
      ],
      "source": [
        "modelC.summary()"
      ]
    },
    {
      "cell_type": "markdown",
      "metadata": {
        "id": "AaA2yzTpyrE6"
      },
      "source": [
        "## Save Model"
      ]
    },
    {
      "cell_type": "code",
      "execution_count": null,
      "metadata": {
        "id": "5KFxX9KDyrE7",
        "outputId": "e877e3b0-6e0b-4052-e868-4e2696dd69f2"
      },
      "outputs": [
        {
          "name": "stdout",
          "output_type": "stream",
          "text": [
            "The best model has been saved successfully.\n"
          ]
        }
      ],
      "source": [
        "# Save the best model\n",
        "modelC.save(f\"***best_model_Final***.keras\")\n",
        "\n",
        "# Check if the model file exists\n",
        "if os.path.isfile(f\"***best_model_Final***.keras\") == True:\n",
        "    print(\"The best model has been saved successfully.\")\n",
        "else:\n",
        "    print(\"Error Occured\")"
      ]
    },
    {
      "cell_type": "code",
      "execution_count": null,
      "metadata": {
        "id": "W3HAj9pOyrE7"
      },
      "outputs": [],
      "source": []
    }
  ],
  "metadata": {
    "kernelspec": {
      "display_name": "Python 3 (ipykernel)",
      "language": "python",
      "name": "python3"
    },
    "language_info": {
      "codemirror_mode": {
        "name": "ipython",
        "version": 3
      },
      "file_extension": ".py",
      "mimetype": "text/x-python",
      "name": "python",
      "nbconvert_exporter": "python",
      "pygments_lexer": "ipython3",
      "version": "3.8.2"
    },
    "colab": {
      "provenance": [],
      "include_colab_link": true
    }
  },
  "nbformat": 4,
  "nbformat_minor": 0
}